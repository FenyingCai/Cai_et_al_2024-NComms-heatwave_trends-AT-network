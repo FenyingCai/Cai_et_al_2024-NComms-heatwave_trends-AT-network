{
 "cells": [
  {
   "cell_type": "code",
   "execution_count": 1,
   "metadata": {},
   "outputs": [
    {
     "name": "stderr",
     "output_type": "stream",
     "text": [
      "/home/soft/anaconda3/lib/python3.8/site-packages/gribapi/__init__.py:23: UserWarning: ecCodes 2.21.0 or higher is recommended. You are running version 2.17.0\n",
      "  warnings.warn(\n"
     ]
    },
    {
     "name": "stdout",
     "output_type": "stream",
     "text": [
      "(31, 91, 360)\n",
      "iyear =  1979\n",
      "iyear =  1980\n",
      "iyear =  1981\n",
      "iyear =  1982\n",
      "iyear =  1983\n",
      "iyear =  1984\n",
      "iyear =  1985\n",
      "iyear =  1986\n",
      "iyear =  1987\n",
      "iyear =  1988\n",
      "iyear =  1989\n",
      "iyear =  1990\n",
      "iyear =  1991\n",
      "iyear =  1992\n",
      "iyear =  1993\n",
      "iyear =  1994\n",
      "iyear =  1995\n",
      "iyear =  1996\n",
      "iyear =  1997\n",
      "iyear =  1998\n",
      "iyear =  1999\n",
      "iyear =  2000\n",
      "iyear =  2001\n",
      "iyear =  2002\n",
      "iyear =  2003\n",
      "iyear =  2004\n",
      "iyear =  2005\n",
      "iyear =  2006\n",
      "iyear =  2007\n",
      "iyear =  2008\n",
      "iyear =  2009\n",
      "iyear =  2010\n",
      "iyear =  2011\n",
      "iyear =  2012\n",
      "iyear =  2013\n",
      "iyear =  2014\n",
      "iyear =  2015\n",
      "iyear =  2016\n",
      "iyear =  2017\n",
      "iyear =  2018\n",
      "iyear =  2019\n",
      "iyear =  2020\n",
      "iyear =  2021\n",
      "iyear =  2022\n"
     ]
    }
   ],
   "source": [
    "import numpy as np\n",
    "import xarray as xr\n",
    "\n",
    "##--##--##--##--  读取 15 天滑动气温 10%, 90% 阈值 (JJA)   --##--##--##--##\n",
    "ds00 = xr.open_dataset(\"/home/ys17-23/cai_fy/data4_heatwaves/NCC2_1980_2010/1_threshold/era5_Tmax_th90_JJA_1981_2010.nc\")\n",
    "t_th90 = ds00.air_th90.loc[:, 90:0,:][:,::-1,:]\n",
    "\n",
    "\n",
    "##--##--##--##--  读取 ERA5 2米气温数据  --##--##--##--##\n",
    "ds00 = xr.open_dataset(\"/home/ys17-23/Extension/ERA5/ERA5-daily/surface/t2m/t2m.2021-05.daily.nc\")\n",
    "t0 = ds00.t2m.loc[:,90:0,:][:,::-1,:]; ds00.close()\n",
    "lat = t0.latitude; lon = t0.longitude\n",
    "print(np.shape(t0))\n",
    "t = np.zeros((44, 92, np.shape(t0)[1],np.shape(t0)[2]))\n",
    "\n",
    "\n",
    "for iyear in range(44):\n",
    "  print('iyear = ',iyear+1979)\n",
    "  ds2 = xr.open_dataset(\"/home/ys17-23/Extension/ERA5/ERA5-daily/surface/t2m_max/t2m.\"+str(iyear+1979)+\"-06.daily.nc\")\n",
    "  t[iyear,0:30,:,:] = ds2.t2m.loc[:,90:0,:][:,::-1,:]\n",
    "  ds3 = xr.open_dataset(\"/home/ys17-23/Extension/ERA5/ERA5-daily/surface/t2m_max/t2m.\"+str(iyear+1979)+\"-07.daily.nc\")\n",
    "  t[iyear,30:61,:,:] = ds3.t2m.loc[:,90:0,:][:,::-1,:]\n",
    "  ds4 = xr.open_dataset(\"/home/ys17-23/Extension/ERA5/ERA5-daily/surface/t2m_max/t2m.\"+str(iyear+1979)+\"-08.daily.nc\")\n",
    "  t[iyear,61:92,:,:] = ds4.t2m.loc[:,90:0,:][:,::-1,:]\n",
    "  ds2.close(); ds3.close(); ds4.close()"
   ]
  },
  {
   "cell_type": "code",
   "execution_count": 2,
   "metadata": {},
   "outputs": [
    {
     "name": "stdout",
     "output_type": "stream",
     "text": [
      "Heat days 15968516.0 132612480\n",
      "Heat Intensity  10112629.718646264 19.810333251953125 -0.0\n"
     ]
    }
   ],
   "source": [
    "##--##--##--##--  对于某一时刻，气温是否超过90%阈值, 或低于10%阈值  --##--##--##--##\n",
    "t_True = np.zeros((44, 92, np.shape(t0)[1],np.shape(t0)[2]))\n",
    "Intensity_True = np.zeros((44, 92, np.shape(t0)[1],np.shape(t0)[2]))\n",
    "t_True[:,:,:,:] = np.array(t) >= np.array(t_th90)\n",
    "Intensity_True[:,:,:,:] = np.array(t) - np.array(t_th90)\n",
    "del t; print(\"Heat days\",np.sum(t_True), np.size(t_True))\n",
    "\n",
    "\n",
    "##--##--##--##--  热浪事件：连续三天超过90%阈值； 偏冷事件：或低于10%阈值  --##--##--##--##\n",
    "t_True2 = t_True.copy()\n",
    "t_True2[:,2:-2,:,:][t_True[:,:-4,:,:]+t_True[:,1:-3,:,:]+t_True[:,3:-1,:,:]+t_True[:,4:,:,:]<=1] = 0.0\n",
    "t_True2[:,2:-2,:,:][t_True[:,1:-3,:,:]+t_True[:,3:-1,:,:]==0] = 0.0\n",
    "t_True2[:,2:-2,:,:][(t_True[:,1:-3,:,:]+t_True[:,3:-1,:,:]==1)&(t_True[:,3:-1,:,:]+t_True[:,4:,:,:]<=1)&(t_True[:,:-4,:,:]+t_True[:,1:-3,:,:]<=1)] = 0.0\n",
    "\n",
    "t_True2[:,0,:,:][t_True[:,1,:,:]+t_True[:,2,:,:]<=1] = 0.0\n",
    "t_True2[:,1,:,:][t_True[:,0,:,:]+t_True[:,2,:,:]+t_True[:,3,:,:]<=1] = 0.0\n",
    "t_True2[:,1,:,:][(t_True[:,0,:,:]==1)&(t_True[:,2,:,:]==0)&(t_True[:,3,:,:]==1)] = 0.0\n",
    "t_True2[:,-1,:,:][t_True[:,-2,:,:]+t_True[:,-3,:,:]<=1] = 0.0\n",
    "t_True2[:,-2,:,:][t_True[:,-1,:,:]+t_True[:,-3,:,:]+t_True[:,-4,:,:]<=1] = 0.0\n",
    "t_True2[:,-2,:,:][(t_True[:,-1,:,:]==1)&(t_True[:,-3,:,:]==0)&(t_True[:,-4,:,:]==1)] = 0.0\n",
    "del t_True\n",
    "\n",
    "\n",
    "\n",
    "##--##--##--##--  热浪事件强度：超过90%阈值程度； 偏冷事件强度：或低于10%阈值程度  --##--##--##--##\n",
    "Intensity_True = Intensity_True * np.array(t_True2)\n",
    "print(\"Heat Intensity \",np.sum(Intensity_True), np.max(Intensity_True), np.min(Intensity_True))"
   ]
  },
  {
   "cell_type": "code",
   "execution_count": 3,
   "metadata": {},
   "outputs": [
    {
     "name": "stdout",
     "output_type": "stream",
     "text": [
      "(44, 91, 360) 92.0 0.0\n",
      "(44, 91, 360) 346.83034362792955 0.0\n"
     ]
    }
   ],
   "source": [
    "##--##--##--##--  每个格点，每个夏天的热浪天数 (year * lat * lon)  --##--##--##--##\n",
    "heatwave_day = np.nansum(np.array(t_True2), axis=1)\n",
    "print(np.shape(heatwave_day), np.max(heatwave_day), np.min(heatwave_day))\n",
    "\n",
    "heatwave_intensity = np.nansum(np.array(Intensity_True), axis=1)\n",
    "print(np.shape(heatwave_intensity), np.max(heatwave_intensity), np.min(heatwave_intensity))\n",
    "\n",
    "\n",
    "##--##--##--##--  每年热浪天数, 存入nc文件  --##--##--##--##\n",
    "heatwave_day_array = xr.DataArray(data=heatwave_day.data, dims=['year', 'lat', 'lon'],\n",
    "                                coords={'year':np.linspace(1979,2022,44), 'lat':lat.data, 'lon':lon.data})\n",
    "heatwave_intensity_array = xr.DataArray(data=heatwave_intensity.data, dims=['year', 'lat', 'lon'],\n",
    "                                coords={'year':np.linspace(1979,2022,44), 'lat':lat.data, 'lon':lon.data})\n",
    "\n",
    "ds0 = xr.Dataset(data_vars=dict(heatwave_day=heatwave_day_array, heatwave_intensity=heatwave_intensity_array))\n",
    "ds0.to_netcdf(\"/home/ys17-23/cai_fy/data4_heatwaves/NCC2_1980_2010/1_threshold/era5_Tmax_heatwave_intensity_yearly.nc\")\n",
    "ds0.close()"
   ]
  },
  {
   "cell_type": "code",
   "execution_count": null,
   "metadata": {},
   "outputs": [],
   "source": []
  }
 ],
 "metadata": {
  "kernelspec": {
   "display_name": "base",
   "language": "python",
   "name": "python3"
  },
  "language_info": {
   "codemirror_mode": {
    "name": "ipython",
    "version": 3
   },
   "file_extension": ".py",
   "mimetype": "text/x-python",
   "name": "python",
   "nbconvert_exporter": "python",
   "pygments_lexer": "ipython3",
   "version": "3.8.6"
  },
  "orig_nbformat": 4
 },
 "nbformat": 4,
 "nbformat_minor": 2
}
